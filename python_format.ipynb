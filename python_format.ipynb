{
 "cells": [
  {
   "cell_type": "markdown",
   "metadata": {},
   "source": [
    "# python format格式化函数\n"
   ]
  },
  {
   "cell_type": "markdown",
   "metadata": {},
   "source": [
    "python2.6开始增添了str.format（）,通过{}和：来代替之前的%\n",
    "\n",
    "format可以接受不限次数个参数，位置可以不按照顺序"
   ]
  },
  {
   "cell_type": "code",
   "execution_count": 8,
   "metadata": {},
   "outputs": [
    {
     "name": "stdout",
     "output_type": "stream",
     "text": [
      "hello wl\n"
     ]
    }
   ],
   "source": [
    "print(\"{} {}\".format(\"hello\",\"wl\"))\n",
    "#不设置指定位置，按照默认排序"
   ]
  },
  {
   "cell_type": "code",
   "execution_count": 9,
   "metadata": {},
   "outputs": [
    {
     "name": "stdout",
     "output_type": "stream",
     "text": [
      "world hello\n",
      "hello ls hello ls ls\n"
     ]
    }
   ],
   "source": [
    "print(\"{1} {0}\".format(\"hello\",'world'))\n",
    "#s设置指定位置\n",
    "print(\"{0} {1} {0} {1} {1}\".format('hello','ls'))"
   ]
  },
  {
   "cell_type": "code",
   "execution_count": 11,
   "metadata": {},
   "outputs": [
    {
     "name": "stdout",
     "output_type": "stream",
     "text": [
      "姓名：{name}, 年龄 {age}\n",
      "姓名：刘帅, 年龄 19\n"
     ]
    }
   ],
   "source": [
    "#设置参数名字\n",
    "print(\"姓名：{name}, 年龄 {age}\")\n",
    "print(\"姓名：{name}, 年龄 {age}\".format(name=\"刘帅\",age=19))"
   ]
  },
  {
   "cell_type": "code",
   "execution_count": 13,
   "metadata": {},
   "outputs": [
    {
     "name": "stdout",
     "output_type": "stream",
     "text": [
      "姓名：刘帅, 年龄 19\n"
     ]
    }
   ],
   "source": [
    "#通过list\n",
    "my_list=[\"刘帅\",19]\n",
    "print(\"姓名：{0[0]}, 年龄 {0[1]}\".format(my_list))"
   ]
  },
  {
   "cell_type": "markdown",
   "metadata": {},
   "source": [
    "# 数字格式化"
   ]
  },
  {
   "cell_type": "code",
   "execution_count": 14,
   "metadata": {},
   "outputs": [
    {
     "name": "stdout",
     "output_type": "stream",
     "text": [
      "3.14\n",
      "-3.14\n"
     ]
    }
   ],
   "source": [
    "print(\"{:.2f}\".format(3.1415926))\n",
    "print(\"{:.2f}\".format(-3.1415926))\n",
    "#{:.2f}——保留小数点后两位"
   ]
  },
  {
   "cell_type": "code",
   "execution_count": 15,
   "metadata": {},
   "outputs": [
    {
     "name": "stdout",
     "output_type": "stream",
     "text": [
      "+3.14\n",
      "-3.14\n"
     ]
    }
   ],
   "source": [
    "print(\"{:+.2f}\".format(3.1415926))\n",
    "print(\"{:+.2f}\".format(-3.1415926))\n",
    "#{:+.2f}——带符号保留小数点后两位"
   ]
  },
  {
   "cell_type": "code",
   "execution_count": 16,
   "metadata": {},
   "outputs": [
    {
     "name": "stdout",
     "output_type": "stream",
     "text": [
      "3\n",
      "-3\n"
     ]
    }
   ],
   "source": [
    "print(\"{:.0f}\".format(3.1415926))\n",
    "print(\"{:.0f}\".format(-3.1415926))\n",
    "#{:.0f}——不带小数位"
   ]
  },
  {
   "cell_type": "code",
   "execution_count": 18,
   "metadata": {},
   "outputs": [
    {
     "name": "stdout",
     "output_type": "stream",
     "text": [
      "0031415926\n",
      "0-31415926\n"
     ]
    }
   ],
   "source": [
    "print(\"{:0>10d}\".format(31415926))\n",
    "print(\"{:0>10d}\".format(-31415926))\n",
    "#这个相当于字符串填充0，向左填充到10位"
   ]
  },
  {
   "cell_type": "code",
   "execution_count": 20,
   "metadata": {},
   "outputs": [
    {
     "name": "stdout",
     "output_type": "stream",
     "text": [
      "31415926xx\n",
      "-31415926x\n"
     ]
    }
   ],
   "source": [
    "print(\"{:x<10d}\".format(31415926))\n",
    "print(\"{:x<10d}\".format(-31415926))\n",
    "#这个相当于字符串填充x，向右填充到10位"
   ]
  },
  {
   "cell_type": "code",
   "execution_count": 23,
   "metadata": {},
   "outputs": [
    {
     "name": "stdout",
     "output_type": "stream",
     "text": [
      "31,415,926\n",
      "-31,415,926\n"
     ]
    }
   ],
   "source": [
    "print(\"{:,}\".format(31415926))\n",
    "print(\"{:,}\".format(-31415926))\n",
    "#以逗号得形式分割整数"
   ]
  },
  {
   "cell_type": "code",
   "execution_count": 25,
   "metadata": {},
   "outputs": [
    {
     "name": "stdout",
     "output_type": "stream",
     "text": [
      "314.1593%\n",
      "-314.1593%\n"
     ]
    }
   ],
   "source": [
    "print(\"{:.4%}\".format(3.1415926))\n",
    "print(\"{:.4%}\".format(-3.1415926))\n",
    "#百分比格式，保留几位小数"
   ]
  },
  {
   "cell_type": "code",
   "execution_count": 27,
   "metadata": {},
   "outputs": [
    {
     "name": "stdout",
     "output_type": "stream",
     "text": [
      "3.14e+00\n",
      "-3.14e+00\n"
     ]
    }
   ],
   "source": [
    "print(\"{:.2e}\".format(3.1415926))\n",
    "print(\"{:.2e}\".format(-3.1415926))\n",
    "#指数形式，保留几位小数"
   ]
  },
  {
   "cell_type": "code",
   "execution_count": 33,
   "metadata": {},
   "outputs": [
    {
     "name": "stdout",
     "output_type": "stream",
     "text": [
      "1110111110101111000010010\n",
      "31415826\n",
      "167657022\n",
      "1df5e12\n",
      "0x1df5e12\n",
      "0X1DF5E12\n"
     ]
    }
   ],
   "source": [
    "print(\"{:b}\".format(31415826))#二进制\n",
    "print(\"{:d}\".format(31415826))#十进制\n",
    "print(\"{:o}\".format(31415826))#八进制\n",
    "print(\"{:x}\".format(31415826))#十六进制\n",
    "print(\"{:#x}\".format(31415826))#十六进制（小写）\n",
    "print(\"{:#X}\".format(31415826))#十六进制（大写）"
   ]
  },
  {
   "cell_type": "code",
   "execution_count": null,
   "metadata": {},
   "outputs": [],
   "source": []
  }
 ],
 "metadata": {
  "kernelspec": {
   "display_name": "Python 3",
   "language": "python",
   "name": "python3"
  },
  "language_info": {
   "codemirror_mode": {
    "name": "ipython",
    "version": 3
   },
   "file_extension": ".py",
   "mimetype": "text/x-python",
   "name": "python",
   "nbconvert_exporter": "python",
   "pygments_lexer": "ipython3",
   "version": "3.7.3"
  }
 },
 "nbformat": 4,
 "nbformat_minor": 2
}
